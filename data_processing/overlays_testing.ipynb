{
 "cells": [
  {
   "cell_type": "code",
   "execution_count": 2,
   "source": [
    "import numpy as np\r\n",
    "import pandas as pd\r\n",
    "import glob\r\n",
    "import os\r\n",
    "import googlemaps\r\n",
    "import geocoder\r\n",
    "import folium\r\n",
    "import matplotlib.pyplot as plt\r\n",
    "import geojsoncontour\r\n",
    "\r\n",
    "from sklearn.cluster import DBSCAN\r\n",
    "from sklearn.preprocessing import StandardScaler\r\n",
    "from folium.plugins import MarkerCluster\r\n",
    "from scipy.interpolate import griddata"
   ],
   "outputs": [],
   "metadata": {}
  },
  {
   "cell_type": "code",
   "execution_count": 3,
   "source": [
    "df = pd.read_csv('9-27-9-29_trip_latlng.csv')"
   ],
   "outputs": [],
   "metadata": {}
  },
  {
   "cell_type": "code",
   "execution_count": 3,
   "source": [
    "df.head()"
   ],
   "outputs": [
    {
     "output_type": "execute_result",
     "data": {
      "text/plain": [
       "   Unnamed: 0   Device   DeviceGroup           StartDate  Duration  \\\n",
       "0           0  FO15921  Hospital ITS  September 27, 2022         6   \n",
       "1           1  FO15921  Hospital ITS  September 27, 2022         4   \n",
       "2           2  FO15921  Hospital ITS  September 27, 2022         4   \n",
       "3           3  FO15921  Hospital ITS  September 27, 2022        10   \n",
       "4           4  FO15921  Hospital ITS  September 27, 2022         8   \n",
       "\n",
       "                    EndDate  Distance StopDuration  \\\n",
       "0   Sep 27, 2022 8:42:12 AM         3         0:07   \n",
       "1   Sep 27, 2022 8:53:34 AM         1         1:53   \n",
       "2  Sep 27, 2022 10:51:02 AM         2         0:03   \n",
       "3  Sep 27, 2022 11:05:09 AM         3         1:04   \n",
       "4  Sep 27, 2022 12:18:46 PM         2         0:02   \n",
       "\n",
       "                                      Location StopZoneType  IdleDuration  \\\n",
       "0  1690 S 900 W, Salt Lake City, UT 84104, USA          NaN             0   \n",
       "1   1525 2100 S, Salt Lake City, UT 84119, USA          NaN             0   \n",
       "2  1690 S 900 W, Salt Lake City, UT 84104, USA          NaN             0   \n",
       "3    75 W 900 S, Salt Lake City, UT 84101, USA          NaN             0   \n",
       "4    780 1300 E, Salt Lake City, UT 84102, USA          NaN             0   \n",
       "\n",
       "   MaxSpeed        lat        long  \n",
       "0        68  40.733824 -111.917589  \n",
       "1        42  40.725374 -111.933127  \n",
       "2        45  40.733824 -111.917589  \n",
       "3        35  40.749723 -111.893200  \n",
       "4        39  40.752255 -111.854501  "
      ],
      "text/html": [
       "<div>\n",
       "<style scoped>\n",
       "    .dataframe tbody tr th:only-of-type {\n",
       "        vertical-align: middle;\n",
       "    }\n",
       "\n",
       "    .dataframe tbody tr th {\n",
       "        vertical-align: top;\n",
       "    }\n",
       "\n",
       "    .dataframe thead th {\n",
       "        text-align: right;\n",
       "    }\n",
       "</style>\n",
       "<table border=\"1\" class=\"dataframe\">\n",
       "  <thead>\n",
       "    <tr style=\"text-align: right;\">\n",
       "      <th></th>\n",
       "      <th>Unnamed: 0</th>\n",
       "      <th>Device</th>\n",
       "      <th>DeviceGroup</th>\n",
       "      <th>StartDate</th>\n",
       "      <th>Duration</th>\n",
       "      <th>EndDate</th>\n",
       "      <th>Distance</th>\n",
       "      <th>StopDuration</th>\n",
       "      <th>Location</th>\n",
       "      <th>StopZoneType</th>\n",
       "      <th>IdleDuration</th>\n",
       "      <th>MaxSpeed</th>\n",
       "      <th>lat</th>\n",
       "      <th>long</th>\n",
       "    </tr>\n",
       "  </thead>\n",
       "  <tbody>\n",
       "    <tr>\n",
       "      <th>0</th>\n",
       "      <td>0</td>\n",
       "      <td>FO15921</td>\n",
       "      <td>Hospital ITS</td>\n",
       "      <td>September 27, 2022</td>\n",
       "      <td>6</td>\n",
       "      <td>Sep 27, 2022 8:42:12 AM</td>\n",
       "      <td>3</td>\n",
       "      <td>0:07</td>\n",
       "      <td>1690 S 900 W, Salt Lake City, UT 84104, USA</td>\n",
       "      <td>NaN</td>\n",
       "      <td>0</td>\n",
       "      <td>68</td>\n",
       "      <td>40.733824</td>\n",
       "      <td>-111.917589</td>\n",
       "    </tr>\n",
       "    <tr>\n",
       "      <th>1</th>\n",
       "      <td>1</td>\n",
       "      <td>FO15921</td>\n",
       "      <td>Hospital ITS</td>\n",
       "      <td>September 27, 2022</td>\n",
       "      <td>4</td>\n",
       "      <td>Sep 27, 2022 8:53:34 AM</td>\n",
       "      <td>1</td>\n",
       "      <td>1:53</td>\n",
       "      <td>1525 2100 S, Salt Lake City, UT 84119, USA</td>\n",
       "      <td>NaN</td>\n",
       "      <td>0</td>\n",
       "      <td>42</td>\n",
       "      <td>40.725374</td>\n",
       "      <td>-111.933127</td>\n",
       "    </tr>\n",
       "    <tr>\n",
       "      <th>2</th>\n",
       "      <td>2</td>\n",
       "      <td>FO15921</td>\n",
       "      <td>Hospital ITS</td>\n",
       "      <td>September 27, 2022</td>\n",
       "      <td>4</td>\n",
       "      <td>Sep 27, 2022 10:51:02 AM</td>\n",
       "      <td>2</td>\n",
       "      <td>0:03</td>\n",
       "      <td>1690 S 900 W, Salt Lake City, UT 84104, USA</td>\n",
       "      <td>NaN</td>\n",
       "      <td>0</td>\n",
       "      <td>45</td>\n",
       "      <td>40.733824</td>\n",
       "      <td>-111.917589</td>\n",
       "    </tr>\n",
       "    <tr>\n",
       "      <th>3</th>\n",
       "      <td>3</td>\n",
       "      <td>FO15921</td>\n",
       "      <td>Hospital ITS</td>\n",
       "      <td>September 27, 2022</td>\n",
       "      <td>10</td>\n",
       "      <td>Sep 27, 2022 11:05:09 AM</td>\n",
       "      <td>3</td>\n",
       "      <td>1:04</td>\n",
       "      <td>75 W 900 S, Salt Lake City, UT 84101, USA</td>\n",
       "      <td>NaN</td>\n",
       "      <td>0</td>\n",
       "      <td>35</td>\n",
       "      <td>40.749723</td>\n",
       "      <td>-111.893200</td>\n",
       "    </tr>\n",
       "    <tr>\n",
       "      <th>4</th>\n",
       "      <td>4</td>\n",
       "      <td>FO15921</td>\n",
       "      <td>Hospital ITS</td>\n",
       "      <td>September 27, 2022</td>\n",
       "      <td>8</td>\n",
       "      <td>Sep 27, 2022 12:18:46 PM</td>\n",
       "      <td>2</td>\n",
       "      <td>0:02</td>\n",
       "      <td>780 1300 E, Salt Lake City, UT 84102, USA</td>\n",
       "      <td>NaN</td>\n",
       "      <td>0</td>\n",
       "      <td>39</td>\n",
       "      <td>40.752255</td>\n",
       "      <td>-111.854501</td>\n",
       "    </tr>\n",
       "  </tbody>\n",
       "</table>\n",
       "</div>"
      ]
     },
     "metadata": {},
     "execution_count": 3
    }
   ],
   "metadata": {}
  },
  {
   "cell_type": "code",
   "execution_count": 4,
   "source": [
    "SLC_COORDINATES = [40.7608, -111.891]\r\n",
    "\r\n",
    "slc = folium.Map(location=SLC_COORDINATES, zoom_start=12)\r\n",
    "marker_cluster = MarkerCluster().add_to(slc)\r\n",
    "\r\n",
    "for index, row in df.iterrows():\r\n",
    "    location = [row[\"lat\"],row[\"long\"]]\r\n",
    "    folium.Marker(location).add_to(marker_cluster)\r\n",
    "\r\n",
    "    # slc.Marker(\r\n",
    "    #     location = [row[\"lat\"],row[\"long\"]],\r\n",
    "    #     clustered_marker = True)\r\n",
    "\r\n",
    "slc.save('stops.html')"
   ],
   "outputs": [],
   "metadata": {}
  },
  {
   "cell_type": "code",
   "execution_count": 13,
   "source": [
    "df_c = df[df.lat > 40]\r\n",
    "\r\n",
    "y = df_c['lat']\r\n",
    "x = df_c['long']\r\n",
    "z = df_c['IdleDuration']\r\n",
    "\r\n",
    "xi = np.linspace(x.min(),x.max(),500);\r\n",
    "yi = np.linspace(y.min(),y.max(),500);\r\n",
    "zi = griddata((x, y), z, (xi[None,:], yi[:,None]), method='linear')\r\n",
    "\r\n",
    "#alphas[:, 30:] = np.linspace(1, 0, 70)\r\n",
    "countour = plt.contourf(xi,yi,zi,cmap='Reds')"
   ],
   "outputs": [
    {
     "output_type": "display_data",
     "data": {
      "text/plain": [
       "<Figure size 432x288 with 1 Axes>"
      ],
      "image/png": "[encoded data removed]"
     },
     "metadata": {
      "needs_background": "light"
     }
    }
   ],
   "metadata": {}
  },
  {
   "cell_type": "code",
   "execution_count": 14,
   "source": [
    "geojson = geojsoncontour.contourf_to_geojson(\r\n",
    "    contourf=countour,\r\n",
    "    ndigits=3,\r\n",
    "   )"
   ],
   "outputs": [],
   "metadata": {}
  },
  {
   "cell_type": "code",
   "execution_count": 15,
   "source": [
    "with open('countour_geojson.txt', 'w') as f:\r\n",
    "    f.write(geojson)"
   ],
   "outputs": [],
   "metadata": {}
  },
  {
   "cell_type": "code",
   "execution_count": 12,
   "source": [
    "# Convert text file to JSON \r\n",
    "import json \r\n",
    "with open('countour_geojson.txt') as json_file:     # name of the text file\r\n",
    "    data = json.load(json_file)\r\n",
    "\r\n",
    "# Convert JSON to GeoJson \r\n",
    "from geojson import dump\r\n",
    "with open('countour_geojson.geojson', 'w') as f:   # name of the output geojson file\r\n",
    "   dump(data, f)"
   ],
   "outputs": [],
   "metadata": {}
  }
 ],
 "metadata": {
  "orig_nbformat": 4,
  "language_info": {
   "name": "python",
   "version": "3.9.6",
   "mimetype": "text/x-python",
   "codemirror_mode": {
    "name": "ipython",
    "version": 3
   },
   "pygments_lexer": "ipython3",
   "nbconvert_exporter": "python",
   "file_extension": ".py"
  },
  "kernelspec": {
   "name": "python3",
   "display_name": "Python 3.9.6 64-bit"
  },
  "interpreter": {
   "hash": "63fd5069d213b44bf678585dea6b12cceca9941eaf7f819626cde1f2670de90d"
  }
 },
 "nbformat": 4,
 "nbformat_minor": 2
}