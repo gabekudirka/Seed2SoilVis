{
 "cells": [
  {
   "cell_type": "code",
   "execution_count": 22,
   "source": [
    "import pandas as pd\r\n",
    "import numpy as np\r\n",
    "import json \r\n",
    "import re\r\n",
    "from geojson import Feature, FeatureCollection, MultiPoint, Point\r\n",
    "import uuid\r\n",
    "import math"
   ],
   "outputs": [],
   "metadata": {}
  },
  {
   "cell_type": "code",
   "execution_count": 47,
   "source": [
    "class Vehicle:\r\n",
    "    def __init__(\r\n",
    "        self,\r\n",
    "        id,\r\n",
    "        department,\r\n",
    "        make,\r\n",
    "        model,\r\n",
    "        year,\r\n",
    "        vehicle_class\r\n",
    "        ):\r\n",
    "        self.id = id\r\n",
    "        self.department = department\r\n",
    "        self.make = make\r\n",
    "        self.model = model\r\n",
    "        self.year = year\r\n",
    "        self.vehicle_class = vehicle_class\r\n",
    "        self.trips = []"
   ],
   "outputs": [],
   "metadata": {}
  },
  {
   "cell_type": "code",
   "execution_count": 4,
   "source": [
    "class Trip:\r\n",
    "    def __init__(\r\n",
    "        self,\r\n",
    "        vehicle,\r\n",
    "        start_time,\r\n",
    "        end_time,\r\n",
    "        date,\r\n",
    "        ):\r\n",
    "        self.id = str(uuid.uuid4())\r\n",
    "        self.vehicle = vehicle\r\n",
    "        self.start_time = start_time\r\n",
    "        self.end_time = end_time\r\n",
    "        self.date = date\r\n",
    "        self.stops = []\r\n",
    "        self.num_stops = 0\r\n",
    "        self.distance = 0\r\n",
    "        self.total_duration = 0\r\n",
    "        self.idle_duration = 0\r\n",
    "        self.driving_duration = 0\r\n",
    "        self.stopped_duration = 0\r\n",
    "        self.geojson = []\r\n",
    "        self.show = True\r\n",
    "\r\n",
    "    def add_stop(self, stop):\r\n",
    "        #self.stops.append(stop.__dict__)\r\n",
    "        stop_properties = {\r\n",
    "            'vehicle': self.vehicle,\r\n",
    "            'stopDuration': stop.stop_duration,\r\n",
    "            'idleDuration': stop.idle_duration,\r\n",
    "            'startTime': stop.start_time,\r\n",
    "            'endTime': stop.end_time,\r\n",
    "            'drivingDuration': stop.driving_duration,\r\n",
    "            'distance': stop.distance,\r\n",
    "            'stopNum': self.num_stops\r\n",
    "        }\r\n",
    "        point = Point(stop.location)\r\n",
    "        feature = Feature(geometry=point, properties=stop_properties)\r\n",
    "        self.geojson.append(feature)\r\n",
    "        \r\n",
    "        self.num_stops += 1\r\n",
    "        self.distance += stop.distance\r\n",
    "        self.total_duration += (stop.stop_duration + stop.driving_duration)\r\n",
    "        self.idle_duration += stop.idle_duration\r\n",
    "        self.driving_duration += stop.driving_duration\r\n",
    "        self.stopped_duration += stop.stop_duration\r\n"
   ],
   "outputs": [],
   "metadata": {}
  },
  {
   "cell_type": "code",
   "execution_count": 5,
   "source": [
    "class Department:\r\n",
    "    def __init__ (\r\n",
    "        self,\r\n",
    "        name,\r\n",
    "        vehicles\r\n",
    "    ):\r\n",
    "        self.name = name\r\n",
    "        self.num_vehicles = len(vehicles);\r\n",
    "        self.vehicles = vehicles\r\n"
   ],
   "outputs": [],
   "metadata": {}
  },
  {
   "cell_type": "code",
   "execution_count": 6,
   "source": [
    "class Stop:\r\n",
    "    def __init__(\r\n",
    "        self,\r\n",
    "        location_lat,\r\n",
    "        location_long,\r\n",
    "        stop_duration,\r\n",
    "        idle_duration,\r\n",
    "        driving_duration,\r\n",
    "        start_time,\r\n",
    "        end_time,\r\n",
    "        distance\r\n",
    "        ):\r\n",
    "        self.location = (location_long, location_lat)\r\n",
    "        self.stop_duration = stop_duration\r\n",
    "        self.idle_duration = idle_duration\r\n",
    "        self.driving_duration = driving_duration\r\n",
    "        self.start_time = start_time\r\n",
    "        self.end_time = end_time\r\n",
    "        self.distance = distance"
   ],
   "outputs": [],
   "metadata": {}
  },
  {
   "cell_type": "code",
   "execution_count": 7,
   "source": [
    "fleet_df = pd.read_csv('../src/data/vehicle_details/FleetDetails.csv')"
   ],
   "outputs": [],
   "metadata": {}
  },
  {
   "cell_type": "code",
   "execution_count": 8,
   "source": [
    "fleet_df = fleet_df.fillna('')"
   ],
   "outputs": [],
   "metadata": {}
  },
  {
   "cell_type": "code",
   "execution_count": 9,
   "source": [
    "fleet_df['VehicleName'] = [str(name).split(' ')[0] for name in fleet_df['VehicleName']]\r\n",
    "fleet_df['VehicleName'] = [re.sub('[\\W_]+', '', str(name)) for name in fleet_df['VehicleName']]"
   ],
   "outputs": [],
   "metadata": {}
  },
  {
   "cell_type": "code",
   "execution_count": 55,
   "source": [
    "fleet = []\r\n",
    "for idx, row in fleet_df.iterrows():\r\n",
    "    vehicle = Vehicle(row['VehicleName'], row['Department'], row['Make'], row['Model'], row['Year'], row['Class'])\r\n",
    "    fleet.append(vehicle)"
   ],
   "outputs": [],
   "metadata": {}
  },
  {
   "cell_type": "code",
   "execution_count": 11,
   "source": [
    "dept_obj_arr = []\r\n",
    "groups = fleet_df.groupby('Department')\r\n",
    "for name, rows in groups:\r\n",
    "    dept_vehicles = []\r\n",
    "    for idx, row in rows.iterrows():\r\n",
    "        dept_vehicles.append(row['VehicleName'])\r\n",
    "    dept_obj_arr.append(Department(name, dept_vehicles).__dict__)"
   ],
   "outputs": [],
   "metadata": {}
  },
  {
   "cell_type": "code",
   "execution_count": 56,
   "source": [
    "trips_df = pd.read_csv('sept-oct_trip_latlng.csv')\r\n",
    "# trips_df = trips_df.rename(columns={'Unnamed: 0': 'idx'})\r\n",
    "# trips_df['trip_num'] = 0"
   ],
   "outputs": [],
   "metadata": {}
  },
  {
   "cell_type": "code",
   "execution_count": 2,
   "source": [
    "# grouped = trips_df.groupby('Device')\r\n",
    "# trip_num = 0\r\n",
    "# for name, group in grouped:\r\n",
    "#     last_row = group.iloc[0]\r\n",
    "#     for i, row in group.iterrows():\r\n",
    "#         if row.idx - last_row.idx > 1:\r\n",
    "#             trip_num += 1\r\n",
    "#         trips_df['trip_num'].iloc[row.idx] = trip_num\r\n",
    "#         last_row = row\r\n",
    "#     trip_num += 1"
   ],
   "outputs": [],
   "metadata": {}
  },
  {
   "cell_type": "code",
   "execution_count": 57,
   "source": [
    "trip_objs = []\r\n",
    "trips = []\r\n",
    "grouped = trips_df.groupby('TripNum')\r\n",
    "for name, group in grouped:\r\n",
    "    trip = Trip(group.iloc[0]['Device'], group.iloc[0]['StopStart'], group.iloc[-1]['StopEnd'], group.iloc[0]['Date'])\r\n",
    "    for i, row in group.iterrows():\r\n",
    "        # if math.isnan(row.lat) or math.isnan(row.long):\r\n",
    "        #     r_row = trips_df.sample(n=1).iloc[0]\r\n",
    "        #     while not math.isnan(r_row.lat) and not math.isnan(r_row.long):\r\n",
    "        #         r_row = trips_df.sample(n=1).iloc[0]\r\n",
    "        #     lat = r_row.lat\r\n",
    "        #     lng = r_row.long\r\n",
    "        # else:\r\n",
    "        #     lat = row.lat\r\n",
    "        #     lng = row.long\r\n",
    "        if not math.isnan(row.lat) and not math.isnan(row.long):\r\n",
    "            stop = Stop(row['lat'], row['long'], row['StopDuration'], row['IdleDuration'], row['DrivingDuration'], row['StopStart'], row['StopEnd'], row['Distance'])\r\n",
    "            trip.add_stop(stop)\r\n",
    "    trips.append(trip)\r\n",
    "    trip_objs.append(trip.__dict__)\r\n",
    "\r\n"
   ],
   "outputs": [],
   "metadata": {}
  },
  {
   "cell_type": "code",
   "execution_count": 58,
   "source": [
    "for vehicle in fleet:\r\n",
    "    for trip in trips:\r\n",
    "        if vehicle.id == trip.vehicle:\r\n",
    "            trip_obj = {\r\n",
    "                'idle_duration': trip.idle_duration,\r\n",
    "                'total_duration': trip.total_duration,\r\n",
    "                'driving_duration': trip.driving_duration,\r\n",
    "                'stopped_duration': trip.stopped_duration,\r\n",
    "                'distance': trip.distance,\r\n",
    "                'start_time': trip.start_time,\r\n",
    "                'end_time': trip.end_time,\r\n",
    "                'num_stops': trip.num_stops,\r\n",
    "            }\r\n",
    "            vehicle.trips.append(trip_obj)"
   ],
   "outputs": [],
   "metadata": {}
  },
  {
   "cell_type": "code",
   "execution_count": 59,
   "source": [
    "fleet_obj_arr = []\r\n",
    "for vehicle in fleet:\r\n",
    "    fleet_obj_arr.append(vehicle.__dict__)\r\n"
   ],
   "outputs": [],
   "metadata": {}
  },
  {
   "cell_type": "code",
   "execution_count": 43,
   "source": [
    "stops_obj_arr = []\r\n",
    "for i, row in trips_df.iterrows():\r\n",
    "    if not math.isnan(row.lat) and not math.isnan(row.long):\r\n",
    "        stop = Stop(row['lat'], row['long'], row['StopDuration'], row['IdleDuration'], row['DrivingDuration'], row['StopStart'], row['StopEnd'], row['Distance'])\r\n",
    "        stop.lat = row['lat']\r\n",
    "        stop.lng = row['long']\r\n",
    "        stops_obj_arr.append(stop.__dict__)"
   ],
   "outputs": [],
   "metadata": {}
  },
  {
   "cell_type": "code",
   "execution_count": 45,
   "source": [
    "stops_obj = {'stops': stops_obj_arr}\r\n",
    "\r\n",
    "with open(\"heatmap_data.json\", \"w\") as outfile:\r\n",
    "    json.dump(stops_obj, outfile)"
   ],
   "outputs": [],
   "metadata": {}
  },
  {
   "cell_type": "code",
   "execution_count": 60,
   "source": [
    "fleet_details_obj = {'vehicles': fleet_obj_arr}\r\n",
    "trip_details_obj = {'trips': trip_objs}\r\n",
    "dept_details_obj = {'departments': dept_obj_arr}"
   ],
   "outputs": [],
   "metadata": {}
  },
  {
   "cell_type": "code",
   "execution_count": 34,
   "source": [
    "with open(\"fleet_details.json\", \"w\") as outfile:\r\n",
    "    json.dump(fleet_details_obj, outfile)\r\n",
    "\r\n",
    "with open(\"trips_sept-oct.json\", \"w\") as outfile:\r\n",
    "    json.dump(trip_details_obj, outfile)\r\n",
    "\r\n",
    "    \r\n",
    "with open(\"depts_9-27_9-29.json\", \"w\") as outfile:\r\n",
    "    json.dump(dept_details_obj, outfile)"
   ],
   "outputs": [],
   "metadata": {}
  },
  {
   "cell_type": "code",
   "execution_count": null,
   "source": [],
   "outputs": [],
   "metadata": {}
  }
 ],
 "metadata": {
  "orig_nbformat": 4,
  "language_info": {
   "name": "python",
   "version": "3.9.6",
   "mimetype": "text/x-python",
   "codemirror_mode": {
    "name": "ipython",
    "version": 3
   },
   "pygments_lexer": "ipython3",
   "nbconvert_exporter": "python",
   "file_extension": ".py"
  },
  "kernelspec": {
   "name": "python3",
   "display_name": "Python 3.9.6 64-bit"
  },
  "interpreter": {
   "hash": "63fd5069d213b44bf678585dea6b12cceca9941eaf7f819626cde1f2670de90d"
  }
 },
 "nbformat": 4,
 "nbformat_minor": 2
}