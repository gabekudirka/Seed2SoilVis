{
 "cells": [
  {
   "cell_type": "code",
   "execution_count": 67,
   "source": [
    "import io\r\n",
    "import base64\r\n",
    "\r\n",
    "import pandas as pd\r\n",
    "import numpy as np\r\n",
    "from pyproj import CRS, Transformer\r\n",
    "from matplotlib.image import imsave\r\n",
    "\r\n",
    "from skgstat import Variogram, OrdinaryKriging\r\n",
    "import numpy as np\r\n",
    "import matplotlib.pyplot as plt\r\n",
    "\r\n",
    "import Image"
   ],
   "outputs": [],
   "metadata": {}
  },
  {
   "cell_type": "code",
   "execution_count": 68,
   "source": [
    "df = pd.read_csv('coords.csv')\r\n",
    "\r\n",
    "crs_4326 = CRS('epsg:4326')\r\n",
    "crs_proj = CRS('epsg:32143')\r\n",
    "transformer = Transformer.from_crs(crs_4326, crs_proj)\r\n",
    "pts = [(lat, lon) for lat, lon in zip(df.lat.values, df.lon.values)]\r\n",
    "pts_proj = transformer.itransform(pts)\r\n",
    "pts_proj = [pt for pt in pts_proj]\r\n",
    "df['x'] = [pt[0]for pt in pts_proj]\r\n",
    "df['y'] = [pt[1] for pt in pts_proj]\r\n"
   ],
   "outputs": [],
   "metadata": {}
  },
  {
   "cell_type": "code",
   "execution_count": 69,
   "source": [
    "bounds = [[41.396185, -112.668707], [39.906272, -111.169071]]"
   ],
   "outputs": [],
   "metadata": {}
  },
  {
   "cell_type": "code",
   "execution_count": 70,
   "source": [
    "region = [39.906272, -112.668707, 41.396185, -111.169071]\r\n",
    "df_region = df.loc[(df['lat'] > region[0]) & (df['lat'] < region[2]) & (df['lon'] > region[1]) & (df['lon'] < region[3])]\r\n",
    "df_region\r\n"
   ],
   "outputs": [
    {
     "output_type": "execute_result",
     "data": {
      "text/plain": [
       "           lat         lon  value              x             y\n",
       "0    40.507316 -111.899188  13.19  466166.609997  2.241435e+06\n",
       "1    40.727510 -111.861434  10.27  469465.258255  2.265873e+06\n",
       "2    41.237524 -111.971543   4.01  460461.709717  2.322560e+06\n",
       "4    40.696268 -111.877378  15.11  468103.643742  2.262409e+06\n",
       "5    40.757155 -111.789128   4.13  475584.446537  2.269143e+06\n",
       "..         ...         ...    ...            ...           ...\n",
       "433  41.192739 -111.943092   6.51  462822.626546  2.317573e+06\n",
       "434  40.694588 -111.960084  17.32  461112.348504  2.262255e+06\n",
       "435  40.690900 -111.791479   1.75  475361.938825  2.261786e+06\n",
       "436  40.779480 -111.875565   8.92  468295.680433  2.271649e+06\n",
       "437  40.779480 -111.875565   1.10  468295.680433  2.271649e+06\n",
       "\n",
       "[398 rows x 5 columns]"
      ],
      "text/html": [
       "<div>\n",
       "<style scoped>\n",
       "    .dataframe tbody tr th:only-of-type {\n",
       "        vertical-align: middle;\n",
       "    }\n",
       "\n",
       "    .dataframe tbody tr th {\n",
       "        vertical-align: top;\n",
       "    }\n",
       "\n",
       "    .dataframe thead th {\n",
       "        text-align: right;\n",
       "    }\n",
       "</style>\n",
       "<table border=\"1\" class=\"dataframe\">\n",
       "  <thead>\n",
       "    <tr style=\"text-align: right;\">\n",
       "      <th></th>\n",
       "      <th>lat</th>\n",
       "      <th>lon</th>\n",
       "      <th>value</th>\n",
       "      <th>x</th>\n",
       "      <th>y</th>\n",
       "    </tr>\n",
       "  </thead>\n",
       "  <tbody>\n",
       "    <tr>\n",
       "      <th>0</th>\n",
       "      <td>40.507316</td>\n",
       "      <td>-111.899188</td>\n",
       "      <td>13.19</td>\n",
       "      <td>466166.609997</td>\n",
       "      <td>2.241435e+06</td>\n",
       "    </tr>\n",
       "    <tr>\n",
       "      <th>1</th>\n",
       "      <td>40.727510</td>\n",
       "      <td>-111.861434</td>\n",
       "      <td>10.27</td>\n",
       "      <td>469465.258255</td>\n",
       "      <td>2.265873e+06</td>\n",
       "    </tr>\n",
       "    <tr>\n",
       "      <th>2</th>\n",
       "      <td>41.237524</td>\n",
       "      <td>-111.971543</td>\n",
       "      <td>4.01</td>\n",
       "      <td>460461.709717</td>\n",
       "      <td>2.322560e+06</td>\n",
       "    </tr>\n",
       "    <tr>\n",
       "      <th>4</th>\n",
       "      <td>40.696268</td>\n",
       "      <td>-111.877378</td>\n",
       "      <td>15.11</td>\n",
       "      <td>468103.643742</td>\n",
       "      <td>2.262409e+06</td>\n",
       "    </tr>\n",
       "    <tr>\n",
       "      <th>5</th>\n",
       "      <td>40.757155</td>\n",
       "      <td>-111.789128</td>\n",
       "      <td>4.13</td>\n",
       "      <td>475584.446537</td>\n",
       "      <td>2.269143e+06</td>\n",
       "    </tr>\n",
       "    <tr>\n",
       "      <th>...</th>\n",
       "      <td>...</td>\n",
       "      <td>...</td>\n",
       "      <td>...</td>\n",
       "      <td>...</td>\n",
       "      <td>...</td>\n",
       "    </tr>\n",
       "    <tr>\n",
       "      <th>433</th>\n",
       "      <td>41.192739</td>\n",
       "      <td>-111.943092</td>\n",
       "      <td>6.51</td>\n",
       "      <td>462822.626546</td>\n",
       "      <td>2.317573e+06</td>\n",
       "    </tr>\n",
       "    <tr>\n",
       "      <th>434</th>\n",
       "      <td>40.694588</td>\n",
       "      <td>-111.960084</td>\n",
       "      <td>17.32</td>\n",
       "      <td>461112.348504</td>\n",
       "      <td>2.262255e+06</td>\n",
       "    </tr>\n",
       "    <tr>\n",
       "      <th>435</th>\n",
       "      <td>40.690900</td>\n",
       "      <td>-111.791479</td>\n",
       "      <td>1.75</td>\n",
       "      <td>475361.938825</td>\n",
       "      <td>2.261786e+06</td>\n",
       "    </tr>\n",
       "    <tr>\n",
       "      <th>436</th>\n",
       "      <td>40.779480</td>\n",
       "      <td>-111.875565</td>\n",
       "      <td>8.92</td>\n",
       "      <td>468295.680433</td>\n",
       "      <td>2.271649e+06</td>\n",
       "    </tr>\n",
       "    <tr>\n",
       "      <th>437</th>\n",
       "      <td>40.779480</td>\n",
       "      <td>-111.875565</td>\n",
       "      <td>1.10</td>\n",
       "      <td>468295.680433</td>\n",
       "      <td>2.271649e+06</td>\n",
       "    </tr>\n",
       "  </tbody>\n",
       "</table>\n",
       "<p>398 rows × 5 columns</p>\n",
       "</div>"
      ]
     },
     "metadata": {},
     "execution_count": 70
    }
   ],
   "metadata": {}
  },
  {
   "cell_type": "code",
   "execution_count": 81,
   "source": [
    "# PUT the target CRS here, where kriging will work for you\r\n",
    "CRS_code = 32143\r\n",
    "# Additionally specify the variogram and kriging parameters here\r\n",
    "VARIO = dict(\r\n",
    "    n_lags=100,\r\n",
    "    estimator='matheron',\r\n",
    "    model='exponential',\r\n",
    "    # normalize=True\r\n",
    ")\r\n",
    "KRIG = dict(\r\n",
    "    min_points=2,\r\n",
    "    max_points=30\r\n",
    ")\r\n",
    "# specify the number of cells in each dimension\r\n",
    "GRIDSIZE = 200\r\n",
    "# alternatively, you can change the algorithm directly in the process function"
   ],
   "outputs": [],
   "metadata": {}
  },
  {
   "cell_type": "code",
   "execution_count": 82,
   "source": [
    "def get_data(fname):\r\n",
    "    df = pd.read_csv(fname)\r\n",
    "    region = [39.906272, -112.668707, 41.396185, -111.169071]\r\n",
    "    df = df.loc[(df['lat'] > region[0]) & (df['lat'] < region[2]) & (df['lon'] > region[1]) & (df['lon'] < region[3])]\r\n",
    "    crs_4326 = CRS('epsg:4326')\r\n",
    "    crs_proj = CRS('epsg:' + str(CRS_code))\r\n",
    "    transformer = Transformer.from_crs(crs_4326, crs_proj)\r\n",
    "    pts = [(lat, lon) for lat, lon in zip(df.lat.values, df.lon.values)]\r\n",
    "    pts_proj = transformer.itransform(pts)\r\n",
    "    pts_proj = [pt for pt in pts_proj]\r\n",
    "    df['y'] = [pt[0]for pt in pts_proj]\r\n",
    "    df['x'] = [pt[1] for pt in pts_proj]    \r\n",
    "\r\n",
    "    return df\r\n",
    "    \r\n",
    "def variogram(df, **kwargs):\r\n",
    "    coords = df[['x', 'y']].values\r\n",
    "    values = df.value.values\r\n",
    "\r\n",
    "    return Variogram(coords, values, **kwargs)\r\n",
    "\r\n",
    "def get_bounds(df):\r\n",
    "    xmin = df.x.min()\r\n",
    "    xmax = df.x.max()\r\n",
    "    ymin = df.y.min()\r\n",
    "    ymax = df.y.max()\r\n",
    "\r\n",
    "    return xmin, xmax, ymin, ymax\r\n",
    "\r\n",
    "def build_grid(df, resolution=100):\r\n",
    "    xmin, xmax, ymin, ymax = get_bounds(df)\r\n",
    "    xx, yy = np.mgrid[xmin:xmax:resolution*1j, ymin:ymax:resolution*1j]\r\n",
    "\r\n",
    "    return xx, yy\r\n",
    "\r\n",
    "def krig(vario, grid, **kwargs):\r\n",
    "    xx, yy = grid\r\n",
    "\r\n",
    "    ok = OrdinaryKriging(vario, **kwargs)\r\n",
    "    field = ok.transform(xx.flatten(), yy.flatten())\r\n",
    "    sigma = ok.sigma\r\n",
    "\r\n",
    "    return field.reshape(xx.shape), sigma.reshape(xx.shape)\r\n",
    "\r\n",
    "def asBase64(field, name):\r\n",
    "    f = io.BytesIO()\r\n",
    "\r\n",
    "    vmin = 1.02 * np.nanmin(field)\r\n",
    "    vmax = .98 * np.nanmax(field)\r\n",
    "    imsave(f, np.fliplr(field), vmin=vmin, vmax=vmax, cmap='YlOrRd')\r\n",
    "\r\n",
    "    f.seek(0)\r\n",
    "    s = base64.b64encode(f.read())\r\n",
    "    return 'data:image/png;base64,%s' % s.decode()"
   ],
   "outputs": [],
   "metadata": {}
  },
  {
   "cell_type": "code",
   "execution_count": 83,
   "source": [
    "df = get_data('coords.csv')\r\n",
    "\r\n",
    "grid = build_grid(df, GRIDSIZE)\r\n",
    "V = variogram(df, normalize=False, **VARIO)\r\n",
    "print('variogram found')\r\n",
    "field, sigma = krig(V, grid, **KRIG)\r\n",
    "print('kringing done')\r\n",
    "data = asBase64(field, 'field.png')\r\n",
    "# get the data bounds\r\n",
    "bounds = [[df.lat.max(), df.lon.min()], [df.lat.min(), df.lon.max()]]"
   ],
   "outputs": [
    {
     "output_type": "stream",
     "name": "stdout",
     "text": [
      "variogram found\n",
      "Warning: for 31559 locations, not enough neighbors were found within the range.\n",
      "kringing done\n"
     ]
    }
   ],
   "metadata": {}
  },
  {
   "cell_type": "code",
   "execution_count": 84,
   "source": [
    "plt.imshow(field)"
   ],
   "outputs": [
    {
     "output_type": "execute_result",
     "data": {
      "text/plain": [
       "<matplotlib.image.AxesImage at 0x2223b8806a0>"
      ]
     },
     "metadata": {},
     "execution_count": 84
    },
    {
     "output_type": "display_data",
     "data": {
      "text/plain": [
       "<Figure size 432x288 with 1 Axes>"
      ],
      "image/png": "[encoded data removed]"
     },
     "metadata": {
      "needs_background": "light"
     }
    }
   ],
   "metadata": {}
  },
  {
   "cell_type": "code",
   "execution_count": 1,
   "source": [
    "import json\r\n",
    "code = \"var img = '%s';\\nvar bnd = %s;\" % (data, json.dumps(bounds))"
   ],
   "outputs": [
    {
     "output_type": "error",
     "ename": "NameError",
     "evalue": "name 'data' is not defined",
     "traceback": [
      "\u001b[1;31m---------------------------------------------------------------------------\u001b[0m",
      "\u001b[1;31mNameError\u001b[0m                                 Traceback (most recent call last)",
      "\u001b[1;32m~\\AppData\\Local\\Temp/ipykernel_32920/1995648587.py\u001b[0m in \u001b[0;36m<module>\u001b[1;34m\u001b[0m\n\u001b[0;32m      1\u001b[0m \u001b[1;32mimport\u001b[0m \u001b[0mjson\u001b[0m\u001b[1;33m\u001b[0m\u001b[1;33m\u001b[0m\u001b[0m\n\u001b[1;32m----> 2\u001b[1;33m \u001b[0mcode\u001b[0m \u001b[1;33m=\u001b[0m \u001b[1;34m\"var img = '%s';\\nvar bnd = %s;\"\u001b[0m \u001b[1;33m%\u001b[0m \u001b[1;33m(\u001b[0m\u001b[0mdata\u001b[0m\u001b[1;33m,\u001b[0m \u001b[0mjson\u001b[0m\u001b[1;33m.\u001b[0m\u001b[0mdumps\u001b[0m\u001b[1;33m(\u001b[0m\u001b[0mbounds\u001b[0m\u001b[1;33m)\u001b[0m\u001b[1;33m)\u001b[0m\u001b[1;33m\u001b[0m\u001b[1;33m\u001b[0m\u001b[0m\n\u001b[0m",
      "\u001b[1;31mNameError\u001b[0m: name 'data' is not defined"
     ]
    }
   ],
   "metadata": {}
  }
 ],
 "metadata": {
  "orig_nbformat": 4,
  "language_info": {
   "name": "python",
   "version": "3.9.6",
   "mimetype": "text/x-python",
   "codemirror_mode": {
    "name": "ipython",
    "version": 3
   },
   "pygments_lexer": "ipython3",
   "nbconvert_exporter": "python",
   "file_extension": ".py"
  },
  "kernelspec": {
   "name": "python3",
   "display_name": "Python 3.9.6 64-bit"
  },
  "interpreter": {
   "hash": "63fd5069d213b44bf678585dea6b12cceca9941eaf7f819626cde1f2670de90d"
  }
 },
 "nbformat": 4,
 "nbformat_minor": 2
}