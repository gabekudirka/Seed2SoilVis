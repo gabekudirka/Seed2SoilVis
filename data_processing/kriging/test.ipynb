{
 "cells": [
  {
   "cell_type": "code",
   "execution_count": 67,
   "source": [
    "import io\r\n",
    "import base64\r\n",
    "\r\n",
    "import pandas as pd\r\n",
    "import numpy as np\r\n",
    "from pyproj import CRS, Transformer\r\n",
    "from matplotlib.image import imsave\r\n",
    "\r\n",
    "from skgstat import Variogram, OrdinaryKriging\r\n",
    "import numpy as np\r\n",
    "import matplotlib.pyplot as plt"
   ],
   "outputs": [],
   "metadata": {}
  },
  {
   "cell_type": "code",
   "execution_count": 68,
   "source": [
    "df = pd.read_csv('coords.csv')\r\n",
    "\r\n",
    "crs_4326 = CRS('epsg:4326')\r\n",
    "crs_proj = CRS('epsg:32143')\r\n",
    "transformer = Transformer.from_crs(crs_4326, crs_proj)\r\n",
    "pts = [(lat, lon) for lat, lon in zip(df.lat.values, df.lon.values)]\r\n",
    "pts_proj = transformer.itransform(pts)\r\n",
    "pts_proj = [pt for pt in pts_proj]\r\n",
    "df['x'] = [pt[0]for pt in pts_proj]\r\n",
    "df['y'] = [pt[1] for pt in pts_proj]\r\n"
   ],
   "outputs": [],
   "metadata": {}
  },
  {
   "cell_type": "code",
   "execution_count": 69,
   "source": [
    "bounds = [[41.396185, -112.668707], [39.906272, -111.169071]]"
   ],
   "outputs": [],
   "metadata": {}
  },
  {
   "cell_type": "code",
   "execution_count": 70,
   "source": [
    "region = [39.906272, -112.668707, 41.396185, -111.169071]\r\n",
    "df_region = df.loc[(df['lat'] > region[0]) & (df['lat'] < region[2]) & (df['lon'] > region[1]) & (df['lon'] < region[3])]\r\n",
    "df_region\r\n"
   ],
   "outputs": [
    {
     "output_type": "execute_result",
     "data": {
      "text/plain": [
       "           lat         lon  value              x             y\n",
       "0    40.507316 -111.899188  13.19  466166.609997  2.241435e+06\n",
       "1    40.727510 -111.861434  10.27  469465.258255  2.265873e+06\n",
       "2    41.237524 -111.971543   4.01  460461.709717  2.322560e+06\n",
       "4    40.696268 -111.877378  15.11  468103.643742  2.262409e+06\n",
       "5    40.757155 -111.789128   4.13  475584.446537  2.269143e+06\n",
       "..         ...         ...    ...            ...           ...\n",
       "433  41.192739 -111.943092   6.51  462822.626546  2.317573e+06\n",
       "434  40.694588 -111.960084  17.32  461112.348504  2.262255e+06\n",
       "435  40.690900 -111.791479   1.75  475361.938825  2.261786e+06\n",
       "436  40.779480 -111.875565   8.92  468295.680433  2.271649e+06\n",
       "437  40.779480 -111.875565   1.10  468295.680433  2.271649e+06\n",
       "\n",
       "[398 rows x 5 columns]"
      ],
      "text/html": [
       "<div>\n",
       "<style scoped>\n",
       "    .dataframe tbody tr th:only-of-type {\n",
       "        vertical-align: middle;\n",
       "    }\n",
       "\n",
       "    .dataframe tbody tr th {\n",
       "        vertical-align: top;\n",
       "    }\n",
       "\n",
       "    .dataframe thead th {\n",
       "        text-align: right;\n",
       "    }\n",
       "</style>\n",
       "<table border=\"1\" class=\"dataframe\">\n",
       "  <thead>\n",
       "    <tr style=\"text-align: right;\">\n",
       "      <th></th>\n",
       "      <th>lat</th>\n",
       "      <th>lon</th>\n",
       "      <th>value</th>\n",
       "      <th>x</th>\n",
       "      <th>y</th>\n",
       "    </tr>\n",
       "  </thead>\n",
       "  <tbody>\n",
       "    <tr>\n",
       "      <th>0</th>\n",
       "      <td>40.507316</td>\n",
       "      <td>-111.899188</td>\n",
       "      <td>13.19</td>\n",
       "      <td>466166.609997</td>\n",
       "      <td>2.241435e+06</td>\n",
       "    </tr>\n",
       "    <tr>\n",
       "      <th>1</th>\n",
       "      <td>40.727510</td>\n",
       "      <td>-111.861434</td>\n",
       "      <td>10.27</td>\n",
       "      <td>469465.258255</td>\n",
       "      <td>2.265873e+06</td>\n",
       "    </tr>\n",
       "    <tr>\n",
       "      <th>2</th>\n",
       "      <td>41.237524</td>\n",
       "      <td>-111.971543</td>\n",
       "      <td>4.01</td>\n",
       "      <td>460461.709717</td>\n",
       "      <td>2.322560e+06</td>\n",
       "    </tr>\n",
       "    <tr>\n",
       "      <th>4</th>\n",
       "      <td>40.696268</td>\n",
       "      <td>-111.877378</td>\n",
       "      <td>15.11</td>\n",
       "      <td>468103.643742</td>\n",
       "      <td>2.262409e+06</td>\n",
       "    </tr>\n",
       "    <tr>\n",
       "      <th>5</th>\n",
       "      <td>40.757155</td>\n",
       "      <td>-111.789128</td>\n",
       "      <td>4.13</td>\n",
       "      <td>475584.446537</td>\n",
       "      <td>2.269143e+06</td>\n",
       "    </tr>\n",
       "    <tr>\n",
       "      <th>...</th>\n",
       "      <td>...</td>\n",
       "      <td>...</td>\n",
       "      <td>...</td>\n",
       "      <td>...</td>\n",
       "      <td>...</td>\n",
       "    </tr>\n",
       "    <tr>\n",
       "      <th>433</th>\n",
       "      <td>41.192739</td>\n",
       "      <td>-111.943092</td>\n",
       "      <td>6.51</td>\n",
       "      <td>462822.626546</td>\n",
       "      <td>2.317573e+06</td>\n",
       "    </tr>\n",
       "    <tr>\n",
       "      <th>434</th>\n",
       "      <td>40.694588</td>\n",
       "      <td>-111.960084</td>\n",
       "      <td>17.32</td>\n",
       "      <td>461112.348504</td>\n",
       "      <td>2.262255e+06</td>\n",
       "    </tr>\n",
       "    <tr>\n",
       "      <th>435</th>\n",
       "      <td>40.690900</td>\n",
       "      <td>-111.791479</td>\n",
       "      <td>1.75</td>\n",
       "      <td>475361.938825</td>\n",
       "      <td>2.261786e+06</td>\n",
       "    </tr>\n",
       "    <tr>\n",
       "      <th>436</th>\n",
       "      <td>40.779480</td>\n",
       "      <td>-111.875565</td>\n",
       "      <td>8.92</td>\n",
       "      <td>468295.680433</td>\n",
       "      <td>2.271649e+06</td>\n",
       "    </tr>\n",
       "    <tr>\n",
       "      <th>437</th>\n",
       "      <td>40.779480</td>\n",
       "      <td>-111.875565</td>\n",
       "      <td>1.10</td>\n",
       "      <td>468295.680433</td>\n",
       "      <td>2.271649e+06</td>\n",
       "    </tr>\n",
       "  </tbody>\n",
       "</table>\n",
       "<p>398 rows × 5 columns</p>\n",
       "</div>"
      ]
     },
     "metadata": {},
     "execution_count": 70
    }
   ],
   "metadata": {}
  },
  {
   "cell_type": "code",
   "execution_count": 81,
   "source": [
    "# PUT the target CRS here, where kriging will work for you\r\n",
    "CRS_code = 32143\r\n",
    "# Additionally specify the variogram and kriging parameters here\r\n",
    "VARIO = dict(\r\n",
    "    n_lags=100,\r\n",
    "    estimator='matheron',\r\n",
    "    model='exponential',\r\n",
    "    # normalize=True\r\n",
    ")\r\n",
    "KRIG = dict(\r\n",
    "    min_points=2,\r\n",
    "    max_points=30\r\n",
    ")\r\n",
    "# specify the number of cells in each dimension\r\n",
    "GRIDSIZE = 200\r\n",
    "# alternatively, you can change the algorithm directly in the process function"
   ],
   "outputs": [],
   "metadata": {}
  },
  {
   "cell_type": "code",
   "execution_count": 82,
   "source": [
    "def get_data(fname):\r\n",
    "    df = pd.read_csv(fname)\r\n",
    "    region = [39.906272, -112.668707, 41.396185, -111.169071]\r\n",
    "    df = df.loc[(df['lat'] > region[0]) & (df['lat'] < region[2]) & (df['lon'] > region[1]) & (df['lon'] < region[3])]\r\n",
    "    crs_4326 = CRS('epsg:4326')\r\n",
    "    crs_proj = CRS('epsg:' + str(CRS_code))\r\n",
    "    transformer = Transformer.from_crs(crs_4326, crs_proj)\r\n",
    "    pts = [(lat, lon) for lat, lon in zip(df.lat.values, df.lon.values)]\r\n",
    "    pts_proj = transformer.itransform(pts)\r\n",
    "    pts_proj = [pt for pt in pts_proj]\r\n",
    "    df['y'] = [pt[0]for pt in pts_proj]\r\n",
    "    df['x'] = [pt[1] for pt in pts_proj]    \r\n",
    "\r\n",
    "    return df\r\n",
    "def variogram(df, **kwargs):\r\n",
    "    # load data\r\n",
    "    coords = df[['x', 'y']].values\r\n",
    "    values = df.value.values\r\n",
    "\r\n",
    "    return Variogram(coords, values, **kwargs)\r\n",
    "\r\n",
    "def get_bounds(df):\r\n",
    "    # get the bounds\r\n",
    "    xmin = df.x.min()\r\n",
    "    xmax = df.x.max()\r\n",
    "    ymin = df.y.min()\r\n",
    "    ymax = df.y.max()\r\n",
    "\r\n",
    "    return xmin, xmax, ymin, ymax\r\n",
    "\r\n",
    "def build_grid(df, resolution=100):\r\n",
    "    xmin, xmax, ymin, ymax = get_bounds(df)\r\n",
    "    xx, yy = np.mgrid[xmin:xmax:resolution*1j, ymin:ymax:resolution*1j]\r\n",
    "\r\n",
    "    return xx, yy\r\n",
    "\r\n",
    "def krig(vario, grid, **kwargs):\r\n",
    "    # get the grid\r\n",
    "    xx, yy = grid\r\n",
    "\r\n",
    "    ok = OrdinaryKriging(vario, **kwargs)\r\n",
    "    field = ok.transform(xx.flatten(), yy.flatten())\r\n",
    "    sigma = ok.sigma\r\n",
    "\r\n",
    "    return field.reshape(xx.shape), sigma.reshape(xx.shape)\r\n",
    "\r\n",
    "def asBase64(field, name):\r\n",
    "    f = io.BytesIO()\r\n",
    "\r\n",
    "    vmin = 1.02 * np.nanmin(field)\r\n",
    "    vmax = .98 * np.nanmax(field)\r\n",
    "    imsave(f, np.fliplr(field), vmin=vmin, vmax=vmax, cmap='YlOrRd')\r\n",
    "\r\n",
    "    f.seek(0)\r\n",
    "    s = base64.b64encode(f.read())\r\n",
    "    return 'data:image/png;base64,%s' % s.decode()"
   ],
   "outputs": [],
   "metadata": {}
  },
  {
   "cell_type": "code",
   "execution_count": 83,
   "source": [
    "df = get_data('coords.csv')\r\n",
    "\r\n",
    "grid = build_grid(df, GRIDSIZE)\r\n",
    "V = variogram(df, normalize=False, **VARIO)\r\n",
    "print('variogram found')\r\n",
    "field, sigma = krig(V, grid, **KRIG)\r\n",
    "print('kringing done')\r\n",
    "data = asBase64(field, 'field.png')\r\n",
    "# get the data bounds\r\n",
    "bounds = [[df.lat.max(), df.lon.min()], [df.lat.min(), df.lon.max()]]"
   ],
   "outputs": [
    {
     "output_type": "stream",
     "name": "stdout",
     "text": [
      "variogram found\n",
      "Warning: for 31559 locations, not enough neighbors were found within the range.\n",
      "kringing done\n"
     ]
    }
   ],
   "metadata": {}
  },
  {
   "cell_type": "code",
   "execution_count": 84,
   "source": [
    "plt.imshow(field)"
   ],
   "outputs": [
    {
     "output_type": "execute_result",
     "data": {
      "text/plain": [
       "<matplotlib.image.AxesImage at 0x2223b8806a0>"
      ]
     },
     "metadata": {},
     "execution_count": 84
    },
    {
     "output_type": "display_data",
     "data": {
      "text/plain": [
       "<Figure size 432x288 with 1 Axes>"
      ],
      "image/png": "[encoded data removed]"
     },
     "metadata": {
      "needs_background": "light"
     }
    }
   ],
   "metadata": {}
  },
  {
   "cell_type": "code",
   "execution_count": 85,
   "source": [
    "import json\r\n",
    "code = \"var img = '%s';\\nvar bnd = %s;\" % (data, json.dumps(bounds))\r\n",
    "code"
   ],
   "outputs": [
    {
     "output_type": "execute_result",
     "data": {
      "text/plain": [
       "\"var img = 'data:image/png;base64,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';\\nvar bnd = [[41.384924, -112.467771], [39.961038, -111.179579]];\""
      ]
     },
     "metadata": {},
     "execution_count": 85
    }
   ],
   "metadata": {}
  }
 ],
 "metadata": {
  "orig_nbformat": 4,
  "language_info": {
   "name": "python",
   "version": "3.9.6",
   "mimetype": "text/x-python",
   "codemirror_mode": {
    "name": "ipython",
    "version": 3
   },
   "pygments_lexer": "ipython3",
   "nbconvert_exporter": "python",
   "file_extension": ".py"
  },
  "kernelspec": {
   "name": "python3",
   "display_name": "Python 3.9.6 64-bit"
  },
  "interpreter": {
   "hash": "63fd5069d213b44bf678585dea6b12cceca9941eaf7f819626cde1f2670de90d"
  }
 },
 "nbformat": 4,
 "nbformat_minor": 2
}